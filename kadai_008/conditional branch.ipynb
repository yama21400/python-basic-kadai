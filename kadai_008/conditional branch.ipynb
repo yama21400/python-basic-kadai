{
  "nbformat": 4,
  "nbformat_minor": 0,
  "metadata": {
    "colab": {
      "provenance": []
    },
    "kernelspec": {
      "name": "python3",
      "display_name": "Python 3"
    },
    "language_info": {
      "name": "python"
    }
  },
  "cells": [
    {
      "cell_type": "code",
      "source": [
        "import random\n",
        "\n",
        "#変数varに0～100までの整数を代入\n",
        "var = random.randint(0, 100)\n",
        "\n",
        "#変数verを出力\n",
        "print(var)\n",
        "\n",
        "#変数varが、3の倍数と5の倍数の両方に該当する場合は「FizzBuzz」を出力\n",
        "if var % 3 == 0 and var % 5 == 0:\n",
        "    print(\"FizzBuzz\")\n",
        "\n",
        "#変数varが、5の倍数の場合は「Buzz」を出力\n",
        "elif var % 5 == 0:\n",
        "    print(\"Buzz\")\n",
        "\n",
        "#変数varが、3の倍数の場合は「Fizz」を出力\n",
        "elif var % 3 == 0:\n",
        "    print(\"Fizz\")\n",
        "\n",
        "#上記のどの場合にも該当しない場合は、変数varの値を出力\n",
        "else:\n",
        "    print(var)\n",
        "\n",
        "\n",
        "\n",
        "\n",
        "\n",
        "\n",
        "\n"
      ],
      "metadata": {
        "id": "tcklnEHJK1W1",
        "colab": {
          "base_uri": "https://localhost:8080/"
        },
        "outputId": "b86b4dae-af40-4679-f1da-3f5c04357cb8"
      },
      "execution_count": 19,
      "outputs": [
        {
          "output_type": "stream",
          "name": "stdout",
          "text": [
            "90\n",
            "FizzBuzz\n"
          ]
        }
      ]
    }
  ]
}

% 3 == 0 3で割ったら余りが0
% 5 == 0 5で割ったら余りが0
→余りが0になる = 3,5の倍数であると言える。
