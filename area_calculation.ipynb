{
  "nbformat": 4,
  "nbformat_minor": 0,
  "metadata": {
    "colab": {
      "provenance": []
    },
    "kernelspec": {
      "name": "python3",
      "display_name": "Python 3"
    },
    "language_info": {
      "name": "python"
    }
  },
  "cells": [
    {
      "cell_type": "code",
      "source": [
        "#変数の指定\n",
        "top_base = 10     #上辺\n",
        "bottom_base = 20  #下辺\n",
        "height = 5        #高さ\n",
        "\n",
        "#面積の計算\n",
        "result = (top_base + bottom_base) * height / 2\n",
        "\n",
        "#計算結果の出力\n",
        "print(f\"{result}㎠\")\n"
      ],
      "metadata": {
        "colab": {
          "base_uri": "https://localhost:8080/"
        },
        "id": "GkbPDzy8Lc00",
        "outputId": "fb9e02a2-3942-4416-aba0-0189124dcc57"
      },
      "execution_count": 13,
      "outputs": [
        {
          "output_type": "stream",
          "name": "stdout",
          "text": [
            "75.0㎠\n"
          ]
        }
      ]
    }
  ]
}